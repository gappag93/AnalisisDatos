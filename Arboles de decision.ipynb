{
 "cells": [
  {
   "cell_type": "code",
   "execution_count": 3,
   "id": "05287978-7fea-467d-a75e-964198998dc2",
   "metadata": {
    "tags": []
   },
   "outputs": [],
   "source": [
    "#Importamos las librerias \n",
    "import pandas as pd\n",
    "import numpy as np\n",
    "import matplotlib.pyplot as plt\n",
    "from sklearn.model_selection import train_test_split\n",
    "from sklearn.tree import DecisionTreeClassifier, plot_tree\n",
    "from sklearn.metrics import accuracy_score"
   ]
  },
  {
   "cell_type": "code",
   "execution_count": 23,
   "id": "19aabd48-9bb6-4c6c-8002-a35aebe402eb",
   "metadata": {
    "tags": []
   },
   "outputs": [],
   "source": [
    "data = pd.read_csv(\"C:\\datos\\wine1.csv\", sep=\",\", header=None, names=column_names)"
   ]
  },
  {
   "cell_type": "code",
   "execution_count": 24,
   "id": "21034409-7f11-4265-afe8-4bd9bbb059f0",
   "metadata": {
    "tags": []
   },
   "outputs": [],
   "source": [
    "column_names = ['clase', 'alcohol', 'acido malico', 'ceniza', 'alcalinidad de la ceniza', 'magnesio', 'fenoles totales', 'flavonoides', 'fenoles no flavonoides', 'proantocianinas', 'intensidad de color', 'tono', 'OD280/OD315 DE VINOS DILUIDOS', 'PROLINA']"
   ]
  },
  {
   "cell_type": "code",
   "execution_count": 26,
   "id": "27f83ade-7a6b-4261-9736-a8f59507f942",
   "metadata": {
    "tags": []
   },
   "outputs": [
    {
     "data": {
      "text/html": [
       "<div>\n",
       "<style scoped>\n",
       "    .dataframe tbody tr th:only-of-type {\n",
       "        vertical-align: middle;\n",
       "    }\n",
       "\n",
       "    .dataframe tbody tr th {\n",
       "        vertical-align: top;\n",
       "    }\n",
       "\n",
       "    .dataframe thead th {\n",
       "        text-align: right;\n",
       "    }\n",
       "</style>\n",
       "<table border=\"1\" class=\"dataframe\">\n",
       "  <thead>\n",
       "    <tr style=\"text-align: right;\">\n",
       "      <th></th>\n",
       "      <th>clase</th>\n",
       "      <th>alcohol</th>\n",
       "      <th>acido malico</th>\n",
       "      <th>ceniza</th>\n",
       "      <th>alcalinidad de la ceniza</th>\n",
       "      <th>magnesio</th>\n",
       "      <th>fenoles totales</th>\n",
       "      <th>flavonoides</th>\n",
       "      <th>fenoles no flavonoides</th>\n",
       "      <th>proantocianinas</th>\n",
       "      <th>intensidad de color</th>\n",
       "      <th>tono</th>\n",
       "      <th>OD280/OD315 DE VINOS DILUIDOS</th>\n",
       "      <th>PROLINA</th>\n",
       "    </tr>\n",
       "  </thead>\n",
       "  <tbody>\n",
       "    <tr>\n",
       "      <th>0</th>\n",
       "      <td>1</td>\n",
       "      <td>14.23</td>\n",
       "      <td>1.71</td>\n",
       "      <td>2.43</td>\n",
       "      <td>15.6</td>\n",
       "      <td>127</td>\n",
       "      <td>2.80</td>\n",
       "      <td>3.06</td>\n",
       "      <td>0.28</td>\n",
       "      <td>2.29</td>\n",
       "      <td>5.64</td>\n",
       "      <td>1.04</td>\n",
       "      <td>3.92</td>\n",
       "      <td>1065</td>\n",
       "    </tr>\n",
       "    <tr>\n",
       "      <th>1</th>\n",
       "      <td>1</td>\n",
       "      <td>13.20</td>\n",
       "      <td>1.78</td>\n",
       "      <td>2.14</td>\n",
       "      <td>11.2</td>\n",
       "      <td>100</td>\n",
       "      <td>2.65</td>\n",
       "      <td>2.76</td>\n",
       "      <td>0.26</td>\n",
       "      <td>1.28</td>\n",
       "      <td>4.38</td>\n",
       "      <td>1.05</td>\n",
       "      <td>3.40</td>\n",
       "      <td>1050</td>\n",
       "    </tr>\n",
       "    <tr>\n",
       "      <th>2</th>\n",
       "      <td>1</td>\n",
       "      <td>13.16</td>\n",
       "      <td>2.36</td>\n",
       "      <td>2.67</td>\n",
       "      <td>18.6</td>\n",
       "      <td>101</td>\n",
       "      <td>2.80</td>\n",
       "      <td>3.24</td>\n",
       "      <td>0.30</td>\n",
       "      <td>2.81</td>\n",
       "      <td>5.68</td>\n",
       "      <td>1.03</td>\n",
       "      <td>3.17</td>\n",
       "      <td>1185</td>\n",
       "    </tr>\n",
       "    <tr>\n",
       "      <th>3</th>\n",
       "      <td>1</td>\n",
       "      <td>14.37</td>\n",
       "      <td>1.95</td>\n",
       "      <td>2.50</td>\n",
       "      <td>16.8</td>\n",
       "      <td>113</td>\n",
       "      <td>3.85</td>\n",
       "      <td>3.49</td>\n",
       "      <td>0.24</td>\n",
       "      <td>2.18</td>\n",
       "      <td>7.80</td>\n",
       "      <td>0.86</td>\n",
       "      <td>3.45</td>\n",
       "      <td>1480</td>\n",
       "    </tr>\n",
       "    <tr>\n",
       "      <th>4</th>\n",
       "      <td>1</td>\n",
       "      <td>13.24</td>\n",
       "      <td>2.59</td>\n",
       "      <td>2.87</td>\n",
       "      <td>21.0</td>\n",
       "      <td>118</td>\n",
       "      <td>2.80</td>\n",
       "      <td>2.69</td>\n",
       "      <td>0.39</td>\n",
       "      <td>1.82</td>\n",
       "      <td>4.32</td>\n",
       "      <td>1.04</td>\n",
       "      <td>2.93</td>\n",
       "      <td>735</td>\n",
       "    </tr>\n",
       "  </tbody>\n",
       "</table>\n",
       "</div>"
      ],
      "text/plain": [
       "   clase  alcohol  acido malico  ceniza  alcalinidad de la ceniza  magnesio  \\\n",
       "0      1    14.23          1.71    2.43                      15.6       127   \n",
       "1      1    13.20          1.78    2.14                      11.2       100   \n",
       "2      1    13.16          2.36    2.67                      18.6       101   \n",
       "3      1    14.37          1.95    2.50                      16.8       113   \n",
       "4      1    13.24          2.59    2.87                      21.0       118   \n",
       "\n",
       "   fenoles totales  flavonoides  fenoles no flavonoides  proantocianinas  \\\n",
       "0             2.80         3.06                    0.28             2.29   \n",
       "1             2.65         2.76                    0.26             1.28   \n",
       "2             2.80         3.24                    0.30             2.81   \n",
       "3             3.85         3.49                    0.24             2.18   \n",
       "4             2.80         2.69                    0.39             1.82   \n",
       "\n",
       "   intensidad de color  tono  OD280/OD315 DE VINOS DILUIDOS  PROLINA  \n",
       "0                 5.64  1.04                           3.92     1065  \n",
       "1                 4.38  1.05                           3.40     1050  \n",
       "2                 5.68  1.03                           3.17     1185  \n",
       "3                 7.80  0.86                           3.45     1480  \n",
       "4                 4.32  1.04                           2.93      735  "
      ]
     },
     "execution_count": 26,
     "metadata": {},
     "output_type": "execute_result"
    }
   ],
   "source": [
    "data.head()"
   ]
  },
  {
   "cell_type": "code",
   "execution_count": 29,
   "id": "5a4a12c8-f4c6-4e2a-9078-19a224544142",
   "metadata": {
    "tags": []
   },
   "outputs": [
    {
     "data": {
      "text/plain": [
       "(178, 14)"
      ]
     },
     "execution_count": 29,
     "metadata": {},
     "output_type": "execute_result"
    }
   ],
   "source": [
    "data.shape"
   ]
  },
  {
   "cell_type": "code",
   "execution_count": 30,
   "id": "f22b77ca-c292-4a8a-8c56-d1919fb4a4a5",
   "metadata": {
    "tags": []
   },
   "outputs": [
    {
     "data": {
      "text/html": [
       "<div>\n",
       "<style scoped>\n",
       "    .dataframe tbody tr th:only-of-type {\n",
       "        vertical-align: middle;\n",
       "    }\n",
       "\n",
       "    .dataframe tbody tr th {\n",
       "        vertical-align: top;\n",
       "    }\n",
       "\n",
       "    .dataframe thead th {\n",
       "        text-align: right;\n",
       "    }\n",
       "</style>\n",
       "<table border=\"1\" class=\"dataframe\">\n",
       "  <thead>\n",
       "    <tr style=\"text-align: right;\">\n",
       "      <th></th>\n",
       "      <th>clase</th>\n",
       "      <th>alcohol</th>\n",
       "      <th>acido malico</th>\n",
       "      <th>ceniza</th>\n",
       "      <th>alcalinidad de la ceniza</th>\n",
       "      <th>magnesio</th>\n",
       "      <th>fenoles totales</th>\n",
       "      <th>flavonoides</th>\n",
       "      <th>fenoles no flavonoides</th>\n",
       "      <th>proantocianinas</th>\n",
       "      <th>intensidad de color</th>\n",
       "      <th>tono</th>\n",
       "      <th>OD280/OD315 DE VINOS DILUIDOS</th>\n",
       "      <th>PROLINA</th>\n",
       "    </tr>\n",
       "  </thead>\n",
       "  <tbody>\n",
       "    <tr>\n",
       "      <th>count</th>\n",
       "      <td>178.000000</td>\n",
       "      <td>178.000000</td>\n",
       "      <td>178.000000</td>\n",
       "      <td>178.000000</td>\n",
       "      <td>178.000000</td>\n",
       "      <td>178.000000</td>\n",
       "      <td>178.000000</td>\n",
       "      <td>178.000000</td>\n",
       "      <td>178.000000</td>\n",
       "      <td>178.000000</td>\n",
       "      <td>178.000000</td>\n",
       "      <td>178.000000</td>\n",
       "      <td>178.000000</td>\n",
       "      <td>178.000000</td>\n",
       "    </tr>\n",
       "    <tr>\n",
       "      <th>mean</th>\n",
       "      <td>1.938202</td>\n",
       "      <td>13.000618</td>\n",
       "      <td>2.336348</td>\n",
       "      <td>2.366517</td>\n",
       "      <td>19.494944</td>\n",
       "      <td>99.741573</td>\n",
       "      <td>2.295112</td>\n",
       "      <td>2.029270</td>\n",
       "      <td>0.361854</td>\n",
       "      <td>1.590899</td>\n",
       "      <td>5.058090</td>\n",
       "      <td>0.957449</td>\n",
       "      <td>2.611685</td>\n",
       "      <td>746.893258</td>\n",
       "    </tr>\n",
       "    <tr>\n",
       "      <th>std</th>\n",
       "      <td>0.775035</td>\n",
       "      <td>0.811827</td>\n",
       "      <td>1.117146</td>\n",
       "      <td>0.274344</td>\n",
       "      <td>3.339564</td>\n",
       "      <td>14.282484</td>\n",
       "      <td>0.625851</td>\n",
       "      <td>0.998859</td>\n",
       "      <td>0.124453</td>\n",
       "      <td>0.572359</td>\n",
       "      <td>2.318286</td>\n",
       "      <td>0.228572</td>\n",
       "      <td>0.709990</td>\n",
       "      <td>314.907474</td>\n",
       "    </tr>\n",
       "    <tr>\n",
       "      <th>min</th>\n",
       "      <td>1.000000</td>\n",
       "      <td>11.030000</td>\n",
       "      <td>0.740000</td>\n",
       "      <td>1.360000</td>\n",
       "      <td>10.600000</td>\n",
       "      <td>70.000000</td>\n",
       "      <td>0.980000</td>\n",
       "      <td>0.340000</td>\n",
       "      <td>0.130000</td>\n",
       "      <td>0.410000</td>\n",
       "      <td>1.280000</td>\n",
       "      <td>0.480000</td>\n",
       "      <td>1.270000</td>\n",
       "      <td>278.000000</td>\n",
       "    </tr>\n",
       "    <tr>\n",
       "      <th>25%</th>\n",
       "      <td>1.000000</td>\n",
       "      <td>12.362500</td>\n",
       "      <td>1.602500</td>\n",
       "      <td>2.210000</td>\n",
       "      <td>17.200000</td>\n",
       "      <td>88.000000</td>\n",
       "      <td>1.742500</td>\n",
       "      <td>1.205000</td>\n",
       "      <td>0.270000</td>\n",
       "      <td>1.250000</td>\n",
       "      <td>3.220000</td>\n",
       "      <td>0.782500</td>\n",
       "      <td>1.937500</td>\n",
       "      <td>500.500000</td>\n",
       "    </tr>\n",
       "    <tr>\n",
       "      <th>50%</th>\n",
       "      <td>2.000000</td>\n",
       "      <td>13.050000</td>\n",
       "      <td>1.865000</td>\n",
       "      <td>2.360000</td>\n",
       "      <td>19.500000</td>\n",
       "      <td>98.000000</td>\n",
       "      <td>2.355000</td>\n",
       "      <td>2.135000</td>\n",
       "      <td>0.340000</td>\n",
       "      <td>1.555000</td>\n",
       "      <td>4.690000</td>\n",
       "      <td>0.965000</td>\n",
       "      <td>2.780000</td>\n",
       "      <td>673.500000</td>\n",
       "    </tr>\n",
       "    <tr>\n",
       "      <th>75%</th>\n",
       "      <td>3.000000</td>\n",
       "      <td>13.677500</td>\n",
       "      <td>3.082500</td>\n",
       "      <td>2.557500</td>\n",
       "      <td>21.500000</td>\n",
       "      <td>107.000000</td>\n",
       "      <td>2.800000</td>\n",
       "      <td>2.875000</td>\n",
       "      <td>0.437500</td>\n",
       "      <td>1.950000</td>\n",
       "      <td>6.200000</td>\n",
       "      <td>1.120000</td>\n",
       "      <td>3.170000</td>\n",
       "      <td>985.000000</td>\n",
       "    </tr>\n",
       "    <tr>\n",
       "      <th>max</th>\n",
       "      <td>3.000000</td>\n",
       "      <td>14.830000</td>\n",
       "      <td>5.800000</td>\n",
       "      <td>3.230000</td>\n",
       "      <td>30.000000</td>\n",
       "      <td>162.000000</td>\n",
       "      <td>3.880000</td>\n",
       "      <td>5.080000</td>\n",
       "      <td>0.660000</td>\n",
       "      <td>3.580000</td>\n",
       "      <td>13.000000</td>\n",
       "      <td>1.710000</td>\n",
       "      <td>4.000000</td>\n",
       "      <td>1680.000000</td>\n",
       "    </tr>\n",
       "  </tbody>\n",
       "</table>\n",
       "</div>"
      ],
      "text/plain": [
       "            clase     alcohol  acido malico      ceniza  \\\n",
       "count  178.000000  178.000000    178.000000  178.000000   \n",
       "mean     1.938202   13.000618      2.336348    2.366517   \n",
       "std      0.775035    0.811827      1.117146    0.274344   \n",
       "min      1.000000   11.030000      0.740000    1.360000   \n",
       "25%      1.000000   12.362500      1.602500    2.210000   \n",
       "50%      2.000000   13.050000      1.865000    2.360000   \n",
       "75%      3.000000   13.677500      3.082500    2.557500   \n",
       "max      3.000000   14.830000      5.800000    3.230000   \n",
       "\n",
       "       alcalinidad de la ceniza    magnesio  fenoles totales  flavonoides  \\\n",
       "count                178.000000  178.000000       178.000000   178.000000   \n",
       "mean                  19.494944   99.741573         2.295112     2.029270   \n",
       "std                    3.339564   14.282484         0.625851     0.998859   \n",
       "min                   10.600000   70.000000         0.980000     0.340000   \n",
       "25%                   17.200000   88.000000         1.742500     1.205000   \n",
       "50%                   19.500000   98.000000         2.355000     2.135000   \n",
       "75%                   21.500000  107.000000         2.800000     2.875000   \n",
       "max                   30.000000  162.000000         3.880000     5.080000   \n",
       "\n",
       "       fenoles no flavonoides  proantocianinas  intensidad de color  \\\n",
       "count              178.000000       178.000000           178.000000   \n",
       "mean                 0.361854         1.590899             5.058090   \n",
       "std                  0.124453         0.572359             2.318286   \n",
       "min                  0.130000         0.410000             1.280000   \n",
       "25%                  0.270000         1.250000             3.220000   \n",
       "50%                  0.340000         1.555000             4.690000   \n",
       "75%                  0.437500         1.950000             6.200000   \n",
       "max                  0.660000         3.580000            13.000000   \n",
       "\n",
       "             tono  OD280/OD315 DE VINOS DILUIDOS      PROLINA  \n",
       "count  178.000000                     178.000000   178.000000  \n",
       "mean     0.957449                       2.611685   746.893258  \n",
       "std      0.228572                       0.709990   314.907474  \n",
       "min      0.480000                       1.270000   278.000000  \n",
       "25%      0.782500                       1.937500   500.500000  \n",
       "50%      0.965000                       2.780000   673.500000  \n",
       "75%      1.120000                       3.170000   985.000000  \n",
       "max      1.710000                       4.000000  1680.000000  "
      ]
     },
     "execution_count": 30,
     "metadata": {},
     "output_type": "execute_result"
    }
   ],
   "source": [
    "data.describe()"
   ]
  },
  {
   "cell_type": "code",
   "execution_count": 31,
   "id": "96a8ca15-dec8-4081-b3c2-f423aca61327",
   "metadata": {
    "tags": []
   },
   "outputs": [
    {
     "data": {
      "text/plain": [
       "(array([59.,  0.,  0.,  0.,  0., 71.,  0.,  0.,  0., 48.]),\n",
       " array([1. , 1.2, 1.4, 1.6, 1.8, 2. , 2.2, 2.4, 2.6, 2.8, 3. ]),\n",
       " <BarContainer object of 10 artists>)"
      ]
     },
     "execution_count": 31,
     "metadata": {},
     "output_type": "execute_result"
    },
    {
     "data": {
      "image/png": "[encoded data removed]",
      "text/plain": [
       "<Figure size 640x480 with 1 Axes>"
      ]
     },
     "metadata": {},
     "output_type": "display_data"
    }
   ],
   "source": [
    "plt.hist(data.clase)"
   ]
  },
  {
   "cell_type": "code",
   "execution_count": 32,
   "id": "c5f70667-1e53-4cb6-b866-8c468bdf9833",
   "metadata": {
    "tags": []
   },
   "outputs": [],
   "source": [
    "predictors_col = [\"alcohol\", \"acido malico\", \"ceniza\", \"alcalinidad de la ceniza\", \"magnesio\", \"fenoles totales\", \"flavonoides\", \"fenoles no flavonoides\", \"proantocianinas\", \"intensidad de color\", \"tono\", \"OD280/OD315 DE VINOS DILUIDOS\", \"PROLINA\"]\n",
    "target_col = ['clase']"
   ]
  },
  {
   "cell_type": "code",
   "execution_count": 33,
   "id": "10244729-36bc-4f92-ad24-bafc0f63eb42",
   "metadata": {
    "tags": []
   },
   "outputs": [],
   "source": [
    "predictors = data[predictors_col]\n",
    "target = data[target_col]"
   ]
  },
  {
   "cell_type": "code",
   "execution_count": 41,
   "id": "9e305948-1967-4637-867f-4378844a1d26",
   "metadata": {
    "tags": []
   },
   "outputs": [],
   "source": [
    "X_train, X_test, y_train, y_test = train_test_split(predictors, target, test_size=0.08, random_state=14)"
   ]
  },
  {
   "cell_type": "code",
   "execution_count": 35,
   "id": "ccd8271a-78f2-4c62-a8ca-7ff8ba8449e3",
   "metadata": {
    "tags": []
   },
   "outputs": [],
   "source": [
    "tree = DecisionTreeClassifier()"
   ]
  },
  {
   "cell_type": "code",
   "execution_count": 36,
   "id": "21c75c4d-8c36-466c-8ddb-53d9e3fdaa21",
   "metadata": {
    "tags": []
   },
   "outputs": [],
   "source": [
    "arbol = tree.fit(X_train, y_train)"
   ]
  },
  {
   "cell_type": "code",
   "execution_count": 37,
   "id": "814e7946-6ee4-4106-9f32-d0e28183673e",
   "metadata": {
    "tags": []
   },
   "outputs": [
    {
     "data": {
      "text/plain": [
       "[Text(0.4583333333333333, 0.9, 'x[9] <= 3.82\\ngini = 0.661\\nsamples = 161\\nvalue = [51, 63, 47]'),\n",
       " Text(0.25, 0.7, 'x[12] <= 1002.5\\ngini = 0.101\\nsamples = 56\\nvalue = [3, 53, 0]'),\n",
       " Text(0.16666666666666666, 0.5, 'x[2] <= 3.0\\ngini = 0.036\\nsamples = 54\\nvalue = [1, 53, 0]'),\n",
       " Text(0.08333333333333333, 0.3, 'gini = 0.0\\nsamples = 53\\nvalue = [0, 53, 0]'),\n",
       " Text(0.25, 0.3, 'gini = 0.0\\nsamples = 1\\nvalue = [1, 0, 0]'),\n",
       " Text(0.3333333333333333, 0.5, 'gini = 0.0\\nsamples = 2\\nvalue = [2, 0, 0]'),\n",
       " Text(0.6666666666666666, 0.7, 'x[6] <= 1.58\\ngini = 0.582\\nsamples = 105\\nvalue = [48, 10, 47]'),\n",
       " Text(0.5, 0.5, 'x[10] <= 0.97\\ngini = 0.041\\nsamples = 48\\nvalue = [0, 1, 47]'),\n",
       " Text(0.4166666666666667, 0.3, 'gini = 0.0\\nsamples = 47\\nvalue = [0, 0, 47]'),\n",
       " Text(0.5833333333333334, 0.3, 'gini = 0.0\\nsamples = 1\\nvalue = [0, 1, 0]'),\n",
       " Text(0.8333333333333334, 0.5, 'x[12] <= 724.5\\ngini = 0.266\\nsamples = 57\\nvalue = [48, 9, 0]'),\n",
       " Text(0.75, 0.3, 'x[0] <= 13.145\\ngini = 0.18\\nsamples = 10\\nvalue = [1, 9, 0]'),\n",
       " Text(0.6666666666666666, 0.1, 'gini = 0.0\\nsamples = 9\\nvalue = [0, 9, 0]'),\n",
       " Text(0.8333333333333334, 0.1, 'gini = 0.0\\nsamples = 1\\nvalue = [1, 0, 0]'),\n",
       " Text(0.9166666666666666, 0.3, 'gini = 0.0\\nsamples = 47\\nvalue = [47, 0, 0]')]"
      ]
     },
     "execution_count": 37,
     "metadata": {},
     "output_type": "execute_result"
    },
    {
     "data": {
      "image/png": "[encoded data removed]",
      "text/plain": [
       "<Figure size 640x480 with 1 Axes>"
      ]
     },
     "metadata": {},
     "output_type": "display_data"
    }
   ],
   "source": [
    "plot_tree(arbol)"
   ]
  },
  {
   "cell_type": "code",
   "execution_count": 38,
   "id": "8b1924ad-4559-4236-9ecd-33b589598b96",
   "metadata": {
    "tags": []
   },
   "outputs": [],
   "source": [
    "predicciones = arbol.predict(X_test)"
   ]
  },
  {
   "cell_type": "code",
   "execution_count": 39,
   "id": "ae96df48-c92a-4d15-80ab-62f7cd7759bb",
   "metadata": {
    "tags": []
   },
   "outputs": [
    {
     "data": {
      "text/html": [
       "<div>\n",
       "<style scoped>\n",
       "    .dataframe tbody tr th:only-of-type {\n",
       "        vertical-align: middle;\n",
       "    }\n",
       "\n",
       "    .dataframe tbody tr th {\n",
       "        vertical-align: top;\n",
       "    }\n",
       "\n",
       "    .dataframe thead th {\n",
       "        text-align: right;\n",
       "    }\n",
       "</style>\n",
       "<table border=\"1\" class=\"dataframe\">\n",
       "  <thead>\n",
       "    <tr style=\"text-align: right;\">\n",
       "      <th>Predicciones</th>\n",
       "      <th>1</th>\n",
       "      <th>2</th>\n",
       "      <th>3</th>\n",
       "    </tr>\n",
       "    <tr>\n",
       "      <th>Actual</th>\n",
       "      <th></th>\n",
       "      <th></th>\n",
       "      <th></th>\n",
       "    </tr>\n",
       "  </thead>\n",
       "  <tbody>\n",
       "    <tr>\n",
       "      <th>1</th>\n",
       "      <td>7</td>\n",
       "      <td>1</td>\n",
       "      <td>0</td>\n",
       "    </tr>\n",
       "    <tr>\n",
       "      <th>2</th>\n",
       "      <td>0</td>\n",
       "      <td>8</td>\n",
       "      <td>0</td>\n",
       "    </tr>\n",
       "    <tr>\n",
       "      <th>3</th>\n",
       "      <td>0</td>\n",
       "      <td>0</td>\n",
       "      <td>1</td>\n",
       "    </tr>\n",
       "  </tbody>\n",
       "</table>\n",
       "</div>"
      ],
      "text/plain": [
       "Predicciones  1  2  3\n",
       "Actual               \n",
       "1             7  1  0\n",
       "2             0  8  0\n",
       "3             0  0  1"
      ]
     },
     "execution_count": 39,
     "metadata": {},
     "output_type": "execute_result"
    }
   ],
   "source": [
    "pd.crosstab(np.array([y[0] for y in y_test.values.tolist()]), predicciones, rownames=['Actual'], colnames=['Predicciones'])"
   ]
  },
  {
   "cell_type": "code",
   "execution_count": 40,
   "id": "ea7c4f71-92ed-4b27-b579-49d89b9dce79",
   "metadata": {
    "tags": []
   },
   "outputs": [
    {
     "data": {
      "text/plain": [
       "0.9411764705882353"
      ]
     },
     "execution_count": 40,
     "metadata": {},
     "output_type": "execute_result"
    }
   ],
   "source": [
    "accuracy = accuracy_score(y_test,predicciones)\n",
    "accuracy"
   ]
  },
  {
   "cell_type": "code",
   "execution_count": null,
   "id": "a1df5530-364d-4eeb-b93c-1d40295d658f",
   "metadata": {},
   "outputs": [],
   "source": []
  }
 ],
 "metadata": {
  "kernelspec": {
   "display_name": "Python 3 (ipykernel)",
   "language": "python",
   "name": "python3"
  },
  "language_info": {
   "codemirror_mode": {
    "name": "ipython",
    "version": 3
   },
   "file_extension": ".py",
   "mimetype": "text/x-python",
   "name": "python",
   "nbconvert_exporter": "python",
   "pygments_lexer": "ipython3",
   "version": "3.11.4"
  }
 },
 "nbformat": 4,
 "nbformat_minor": 5
}
